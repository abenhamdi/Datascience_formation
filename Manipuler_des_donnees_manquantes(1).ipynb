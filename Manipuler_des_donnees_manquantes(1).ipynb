#!/usr/bin/env python
# coding: utf-8

# In[1]:


import pandas as pd 
import numpy as np 


# In[2]:


ar = np.array([0, 1, 2, 3])
ar


# In[3]:


ar1 =np.array([0, 1, None, 3])
ar1


# In[4]:


ar.mean()#voir la moyenne du tableau


# In[13]:


ar1.mean()


# In[8]:


ar2= np.array([0, 1, np.nan, 3])#pour remedier au pb ci-dessous
ar2


# In[9]:


ar2.mean()#not a number et non une erreur


# In[10]:


np.nanmean(ar2)#Pour faire abstraction du nan et calculer la moyenne


# In[11]:


ser2 = pd.Series([np.nan, 'Bonjour',2, None])


# In[12]:


ser2 + ser2


# In[14]:


ser2.isnull() #la fonction indique True si une donnée est manquante


# In[15]:


ser2.notnull() #opposé de isnull


# In[16]:


ser2[ser2.notnull()]#génerer la série en éliminant les données manquantes


# In[17]:


ser2.dropna()#même chose  que la fct d'en haut


# In[19]:


ser2.fillna(0)#remplis les données manquantes par 0


# In[22]:


df1 = pd.DataFrame([[1, np.nan, 3],[4, 5, 6],[np.nan, 8, 9]])
df1


# In[23]:


df1.dropna


# In[24]:


df1.dropna(axis=1)


# In[25]:


df1.fillna(0)


# In[27]:


df1.fillna({0:'Abs',1:99})#remplir les données manquantes d'une colonne passer en arg


# In[ ]:




