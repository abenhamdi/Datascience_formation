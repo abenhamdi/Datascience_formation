{
 "cells": [
  {
   "cell_type": "code",
   "execution_count": 1,
   "metadata": {},
   "outputs": [],
   "source": [
    "import requests\n",
    "from bs4 import BeautifulSoup"
   ]
  },
  {
   "cell_type": "code",
   "execution_count": 5,
   "metadata": {},
   "outputs": [
    {
     "name": "stdout",
     "output_type": "stream",
     "text": [
      "<!DOCTYPE html>\n",
      "<html class=\"client-nojs\" dir=\"ltr\" lang=\"fr\">\n",
      " <head>\n",
      "  <meta charset=\"utf-8\"/>\n",
      "  <title>\n",
      "   Web scraping — Wikipédia\n",
      "  </title>\n",
      "  <script>\n",
      "   document.documentElement.className=\"clie\n"
     ]
    }
   ],
   "source": [
    "Lien = requests.get('https://fr.wikipedia.org/wiki/Web_scraping')\n",
    "soup = BeautifulSoup(Lien.text, 'lxml')\n",
    "print(soup.prettify()[0:200])"
   ]
  },
  {
   "cell_type": "code",
   "execution_count": 6,
   "metadata": {},
   "outputs": [
    {
     "data": {
      "text/plain": [
       "<title>Web scraping — Wikipédia</title>"
      ]
     },
     "execution_count": 6,
     "metadata": {},
     "output_type": "execute_result"
    }
   ],
   "source": [
    "soup.title"
   ]
  },
  {
   "cell_type": "code",
   "execution_count": 7,
   "metadata": {},
   "outputs": [
    {
     "data": {
      "text/plain": [
       "'Web scraping — Wikipédia'"
      ]
     },
     "execution_count": 7,
     "metadata": {},
     "output_type": "execute_result"
    }
   ],
   "source": [
    "soup.title.string"
   ]
  },
  {
   "cell_type": "code",
   "execution_count": 8,
   "metadata": {},
   "outputs": [
    {
     "name": "stdout",
     "output_type": "stream",
     "text": [
      "#content\n",
      "/wiki/Wikip%C3%A9dia:Accueil_principal\n",
      "/wiki/Sp%C3%A9cial:Mes_discussions\n",
      "/wiki/Sp%C3%A9cial:Mes_contributions\n",
      "/w/index.php?title=Sp%C3%A9cial:Cr%C3%A9er_un_compte&returnto=Web+scraping\n",
      "/w/index.php?title=Sp%C3%A9cial:Connexion&returnto=Web+scraping\n",
      "/wiki/Wikip%C3%A9dia:Accueil_principal\n",
      "/wiki/Portail:Accueil\n",
      "/wiki/Sp%C3%A9cial:Page_au_hasard\n",
      "/wiki/Wikip%C3%A9dia:Contact\n",
      "/wiki/Aide:D%C3%A9buter\n",
      "/wiki/Aide:Accueil\n",
      "/wiki/Wikip%C3%A9dia:Accueil_de_la_communaut%C3%A9\n",
      "/wiki/Sp%C3%A9cial:Modifications_r%C3%A9centes\n",
      "//donate.wikimedia.org/wiki/Special:FundraiserRedirector?utm_source=donate&utm_medium=sidebar&utm_campaign=C13_fr.wikipedia.org&uselang=fr\n",
      "/wiki/Sp%C3%A9cial:Pages_li%C3%A9es/Web_scraping\n",
      "/wiki/Sp%C3%A9cial:Suivi_des_liens/Web_scraping\n",
      "/wiki/Aide:Importer_un_fichier\n",
      "/wiki/Sp%C3%A9cial:Pages_sp%C3%A9ciales\n",
      "/w/index.php?title=Web_scraping&oldid=180043479\n",
      "/w/index.php?title=Web_scraping&action=info\n",
      "/w/index.php?title=Sp%C3%A9cial:Citer&page=Web_scraping&id=180043479&wpFormIdentifier=titleform\n",
      "https://www.wikidata.org/wiki/Special:EntityPage/Q665452\n",
      "/w/index.php?title=Sp%C3%A9cial:Livre&bookcmd=book_creator&referer=Web+scraping\n",
      "/w/index.php?title=Sp%C3%A9cial:DownloadAsPdf&page=Web_scraping&action=show-download-screen\n",
      "/w/index.php?title=Web_scraping&printable=yes\n",
      "https://ar.wikipedia.org/wiki/%D8%A7%D8%B3%D8%AA%D8%AE%D9%84%D8%A7%D8%B5_%D8%A7%D9%84%D9%85%D9%88%D8%A7%D9%82%D8%B9\n",
      "https://ca.wikipedia.org/wiki/Web_scraping\n",
      "https://de.wikipedia.org/wiki/Screen_Scraping\n",
      "https://en.wikipedia.org/wiki/Web_scraping\n",
      "https://es.wikipedia.org/wiki/Web_scraping\n",
      "https://eu.wikipedia.org/wiki/Web_scraping\n",
      "https://id.wikipedia.org/wiki/Web_scraping\n",
      "https://is.wikipedia.org/wiki/Vefs%C3%B6fnun\n",
      "https://it.wikipedia.org/wiki/Web_scraping\n",
      "https://ja.wikipedia.org/wiki/%E3%82%A6%E3%82%A7%E3%83%96%E3%82%B9%E3%82%AF%E3%83%AC%E3%82%A4%E3%83%94%E3%83%B3%E3%82%B0\n",
      "https://lv.wikipedia.org/wiki/Rasmo%C5%A1ana\n",
      "https://nl.wikipedia.org/wiki/Scrapen\n",
      "https://pt.wikipedia.org/wiki/Coleta_de_dados_web\n",
      "https://ru.wikipedia.org/wiki/%D0%92%D0%B5%D0%B1-%D1%81%D0%BA%D1%80%D0%B5%D0%B9%D0%BF%D0%B8%D0%BD%D0%B3\n",
      "https://sr.wikipedia.org/wiki/Web_scraping\n",
      "https://tr.wikipedia.org/wiki/Web_kaz%C4%B1ma\n",
      "https://uk.wikipedia.org/wiki/Web_scraping\n",
      "https://zh.wikipedia.org/wiki/%E7%BD%91%E9%A1%B5%E6%8A%93%E5%8F%96\n",
      "https://www.wikidata.org/wiki/Special:EntityPage/Q665452#sitelinks-wikipedia\n",
      "/wiki/Web_scraping\n",
      "/wiki/Discussion:Web_scraping\n",
      "/wiki/Web_scraping\n",
      "/w/index.php?title=Web_scraping&veaction=edit\n",
      "/w/index.php?title=Web_scraping&action=edit\n",
      "/w/index.php?title=Web_scraping&action=history\n",
      "None\n",
      "/wiki/Aide:Bandeau\n",
      "/wiki/Fichier:2017-fr.wp-orange-source.svg\n",
      "/wiki/Wikip%C3%A9dia:Citez_vos_sources\n",
      "/wiki/Wikip%C3%A9dia:V%C3%A9rifiabilit%C3%A9\n",
      "/wiki/Aide:Ins%C3%A9rer_une_r%C3%A9f%C3%A9rence\n",
      "/wiki/Wikip%C3%A9dia:Citez_vos_sources#Qualité_des_sources\n",
      "/wiki/Aide:Ins%C3%A9rer_une_r%C3%A9f%C3%A9rence_(%C3%89diteur_visuel)\n",
      "/wiki/Site_Web\n",
      "/wiki/Langage_de_script\n",
      "/wiki/Programme_informatique\n",
      "/wiki/R%C3%A9f%C3%A9rencement\n",
      "#cite_note-1\n",
      "#Arguments_contre\n",
      "#Arguments_pour\n",
      "#Légalité\n",
      "#Aux_États-Unis\n",
      "#En_Europe\n",
      "#Applications_utilisant_le_Web_scraping\n",
      "#Utilisation_dans_la_gestion_de_données_multimédia\n",
      "#Notes_et_références\n",
      "#Voir_aussi\n",
      "#Articles_connexes\n",
      "/w/index.php?title=Web_scraping&veaction=edit&section=1\n",
      "/w/index.php?title=Web_scraping&action=edit&section=1\n",
      "/wiki/Google_Actualit%C3%A9s\n",
      "/w/index.php?title=Web_scraping&veaction=edit&section=2\n",
      "/w/index.php?title=Web_scraping&action=edit&section=2\n",
      "/wiki/Int%C3%A9gration_d%27applications_d%27entreprise\n",
      "/w/index.php?title=Web_scraping&veaction=edit&section=3\n",
      "/w/index.php?title=Web_scraping&action=edit&section=3\n",
      "/w/index.php?title=Web_scraping&veaction=edit&section=4\n",
      "/w/index.php?title=Web_scraping&action=edit&section=4\n",
      "/wiki/LinkedIn\n",
      "/wiki/Cour_d%27appel_des_%C3%89tats-Unis_pour_le_neuvi%C3%A8me_circuit\n",
      "#cite_note-2\n",
      "/wiki/Cour_supr%C3%AAme_des_%C3%89tats-Unis\n",
      "#cite_note-3\n",
      "/w/index.php?title=Web_scraping&veaction=edit&section=5\n",
      "/w/index.php?title=Web_scraping&action=edit&section=5\n",
      "/wiki/Cour_de_justice_de_l%27Union_europ%C3%A9enne\n",
      "#cite_note-4\n",
      "/wiki/Commission_nationale_de_l%27informatique_et_des_libert%C3%A9s_(France)\n",
      "#cite_note-5\n",
      "#cite_note-6\n",
      "/w/index.php?title=Web_scraping&veaction=edit&section=6\n",
      "/w/index.php?title=Web_scraping&action=edit&section=6\n",
      "/wiki/Mozilla_Firefox\n",
      "/wiki/Selenium_(informatique)\n",
      "/wiki/Google_Chrome\n",
      "/wiki/Node.js\n",
      "/wiki/OutWit_Hub\n",
      "/wiki/PhantomJS\n",
      "/wiki/Weboob\n",
      "/w/index.php?title=QuickCode&action=edit&redlink=1\n",
      "https://en.wikipedia.org/wiki/QuickCode\n",
      "/wiki/Beautiful_Soup\n",
      "/wiki/Python_(langage)\n",
      "/w/index.php?title=Web_scraping&veaction=edit&section=7\n",
      "/w/index.php?title=Web_scraping&action=edit&section=7\n",
      "/wiki/M%C3%A9tadonn%C3%A9es\n",
      "/wiki/Internet_Movie_Database\n",
      "/wiki/Allocin%C3%A9\n",
      "#cite_note-7\n",
      "/w/index.php?title=Web_scraping&veaction=edit&section=8\n",
      "/w/index.php?title=Web_scraping&action=edit&section=8\n",
      "#cite_ref-1\n",
      "https://books.google.fr/books?id=PfLTAEjPsAAC&pg=PA125&dq=%22Web+scraping%22\n",
      "#cite_ref-2\n",
      "https://www.silicon.fr/linkedin-collecte-donnees-260481.html\n",
      "#cite_ref-3\n",
      "https://www.mediapost.com/publications/article/350655/supreme-court-asks-hiq-to-respond-in-battle-over-d.html\n",
      "#cite_ref-4\n",
      "https://www.actualitesdudroit.fr/browse/tech-droit/start-up/9404/le-web-scraping-une-technique-d-extraction-legale\n",
      "#cite_ref-5\n",
      "https://www.cnil.fr/fr/la-reutilisation-des-donnees-publiquement-accessibles-en-ligne-des-fins-de-demarchage-commercial\n",
      "/wiki/Commission_nationale_de_l%27informatique_et_des_libert%C3%A9s_(France)\n",
      "#cite_ref-6\n",
      "https://finddatalab.com/web-scraping-legal\n",
      "#cite_ref-7\n",
      "https://kodi.wiki/index.php?title=Scrapers\n",
      "/w/index.php?title=Web_scraping&veaction=edit&section=9\n",
      "/w/index.php?title=Web_scraping&action=edit&section=9\n",
      "/w/index.php?title=Web_scraping&veaction=edit&section=10\n",
      "/w/index.php?title=Web_scraping&action=edit&section=10\n",
      "/wiki/Application_composite\n",
      "/wiki/Agr%C3%A9gateur\n",
      "/wiki/Robot_d%27indexation\n",
      "/wiki/Aspirateur_de_site_web\n",
      "/wiki/Mod%C3%A8le:Palette_Optimisation_pour_les_moteurs_de_recherche\n",
      "https://fr.wikipedia.org/w/index.php?title=Mod%C3%A8le:Palette_Optimisation_pour_les_moteurs_de_recherche&action=edit\n",
      "/wiki/Optimisation_pour_les_moteurs_de_recherche\n",
      "/wiki/Protocole_d%27exclusion_des_robots\n",
      "/wiki/%C3%89l%C3%A9ment_meta\n",
      "/wiki/Nofollow\n",
      "/wiki/Search_engine_marketing\n",
      "/wiki/Social_media_optimization\n",
      "/wiki/Answer_Engine_Optimization\n",
      "/w/index.php?title=Online_identity_management&action=edit&redlink=1\n",
      "https://en.wikipedia.org/wiki/Online_identity_management\n",
      "/w/index.php?title=Paid_inclusion&action=edit&redlink=1\n",
      "https://en.wikipedia.org/wiki/Paid_inclusion\n",
      "/wiki/Co%C3%BBt_par_clic\n",
      "/wiki/Bombardement_Google\n",
      "/wiki/Spamdexing\n",
      "None\n",
      "/wiki/Scraper_site\n",
      "/wiki/Ferme_de_liens\n",
      "/wiki/Netlinking\n",
      "/wiki/Lien_retour\n",
      "/wiki/Netlinking\n",
      "/wiki/%C3%89change_de_liens\n",
      "/w/index.php?title=Organic_linking&action=edit&redlink=1\n",
      "https://en.wikipedia.org/wiki/Organic_linking\n",
      "/w/index.php?title=Danny_Sullivan_(technologist)&action=edit&redlink=1\n",
      "https://en.wikipedia.org/wiki/Danny_Sullivan_(technologist)\n",
      "/wiki/Matt_Cutts\n",
      "/w/index.php?title=Vanessa_Fox&action=edit&redlink=1\n",
      "https://en.wikipedia.org/wiki/Vanessa_Fox\n",
      "/w/index.php?title=Barry_Schwartz_(technologist)&action=edit&redlink=1\n",
      "https://en.wikipedia.org/wiki/Barry_Schwartz_(technologist)\n",
      "/wiki/Olivier_Andrieu\n",
      "/wiki/Ciblage_g%C3%A9ographique\n",
      "/wiki/PageRank\n",
      "/wiki/Mot_vide\n",
      "/w/index.php?title=Poison_words&action=edit&redlink=1\n",
      "https://en.wikipedia.org/wiki/Poison_words\n",
      "/wiki/Ferme_de_contenus\n",
      "/wiki/Portail:Informatique\n",
      "/wiki/Portail:Informatique\n",
      "/wiki/Portail:Internet\n",
      "/wiki/Portail:Internet\n",
      "https://fr.wikipedia.org/w/index.php?title=Web_scraping&oldid=180043479\n",
      "/wiki/Cat%C3%A9gorie:Accueil\n",
      "/wiki/Cat%C3%A9gorie:World_Wide_Web\n",
      "/wiki/Cat%C3%A9gorie:Technologie_web\n",
      "/wiki/Cat%C3%A9gorie:Web_2.0\n",
      "/wiki/Cat%C3%A9gorie:Agr%C3%A9gateur\n",
      "/wiki/Cat%C3%A9gorie:Article_manquant_de_r%C3%A9f%C3%A9rences_depuis_avril_2020\n",
      "/wiki/Cat%C3%A9gorie:Article_manquant_de_r%C3%A9f%C3%A9rences/Liste_compl%C3%A8te\n",
      "/wiki/Cat%C3%A9gorie:Article_contenant_un_appel_%C3%A0_traduction_en_anglais\n",
      "/wiki/Cat%C3%A9gorie:Portail:Informatique/Articles_li%C3%A9s\n",
      "/wiki/Cat%C3%A9gorie:Portail:Technologies/Articles_li%C3%A9s\n",
      "/wiki/Cat%C3%A9gorie:Portail:Sciences/Articles_li%C3%A9s\n",
      "/wiki/Cat%C3%A9gorie:Portail:Internet/Articles_li%C3%A9s\n",
      "/wiki/Cat%C3%A9gorie:Portail:M%C3%A9dias/Articles_li%C3%A9s\n",
      "/wiki/Wikip%C3%A9dia:Citation_et_r%C3%A9utilisation_du_contenu_de_Wikip%C3%A9dia\n",
      "https://creativecommons.org/licenses/by-sa/3.0/deed.fr\n",
      "https://wikimediafoundation.org/wiki/Conditions_d%27utilisation\n",
      "/wiki/Wikip%C3%A9dia:Cr%C3%A9dits_graphiques\n",
      "/wiki/Sp%C3%A9cial:Citer/Web_scraping\n",
      "https://wikimediafoundation.org/\n",
      "/wiki/501c\n",
      "https://meta.wikimedia.org/wiki/Privacy_policy/fr\n",
      "/wiki/Wikip%C3%A9dia:%C3%80_propos_de_Wikip%C3%A9dia\n",
      "/wiki/Wikip%C3%A9dia:Avertissements_g%C3%A9n%C3%A9raux\n",
      "//fr.wikipedia.org/wiki/Wikipédia:Contact\n",
      "//fr.m.wikipedia.org/w/index.php?title=Web_scraping&mobileaction=toggle_view_mobile\n",
      "https://www.mediawiki.org/wiki/Special:MyLanguage/How_to_contribute\n",
      "https://stats.wikimedia.org/#/fr.wikipedia.org\n",
      "https://foundation.wikimedia.org/wiki/Cookie_statement\n",
      "https://wikimediafoundation.org/\n",
      "https://www.mediawiki.org/\n"
     ]
    }
   ],
   "source": [
    "for link in soup.find_all('a'):\n",
    "    print(link.get('href'))"
   ]
  },
  {
   "cell_type": "code",
   "execution_count": 12,
   "metadata": {},
   "outputs": [
    {
     "name": "stdout",
     "output_type": "stream",
     "text": [
      "Arguments contre\n",
      "Arguments pour\n",
      "Légalité\n",
      "Aux États-Unis\n",
      "En Europe\n",
      "Applications utilisant le Web scraping\n",
      "Utilisation dans la gestion de données multimédia\n",
      "Notes et références\n",
      "Voir aussi\n",
      "Articles connexes\n"
     ]
    }
   ],
   "source": [
    "for h in soup.select('.toctext'):#chercher le nom des balises à trouver\n",
    "    print(h.text)"
   ]
  },
  {
   "cell_type": "code",
   "execution_count": 13,
   "metadata": {},
   "outputs": [],
   "source": [
    "import re"
   ]
  },
  {
   "cell_type": "code",
   "execution_count": 14,
   "metadata": {},
   "outputs": [
    {
     "data": {
      "text/plain": [
       "['Dans un cadre entreprise, qui est elle bien sûr propriétaire de ses données, cette technologie permet de réduire significativement le temps et le coût des ',\n",
       " \"intégrations d'applications d'entreprise\",\n",
       " \". Bien que ce type d'intégration ait été dans le passé dénigré pour son manque de fiabilité et de performance, il existe aujourd'hui sur le marché des outils professionnels qui permettent ces intégrations dans le respect des contraintes de sécurité et de gouvernance imposées par les grandes entreprises.\\n\",\n",
       " \" a condamné le métamoteur de recherche Innoweb, qui réutilisait les données de l'entreprise de vente d'automobiles Wegener sans aucune modification de celles-ci\"]"
      ]
     },
     "execution_count": 14,
     "metadata": {},
     "output_type": "execute_result"
    }
   ],
   "source": [
    "soup.find_all(string=re.compile(\"entreprise\"))#affiche tous les mots contenants entreprise"
   ]
  },
  {
   "cell_type": "code",
   "execution_count": null,
   "metadata": {},
   "outputs": [],
   "source": []
  }
 ],
 "metadata": {
  "kernelspec": {
   "display_name": "Python 3",
   "language": "python",
   "name": "python3"
  },
  "language_info": {
   "codemirror_mode": {
    "name": "ipython",
    "version": 3
   },
   "file_extension": ".py",
   "mimetype": "text/x-python",
   "name": "python",
   "nbconvert_exporter": "python",
   "pygments_lexer": "ipython3",
   "version": "3.8.3"
  }
 },
 "nbformat": 4,
 "nbformat_minor": 4
}
