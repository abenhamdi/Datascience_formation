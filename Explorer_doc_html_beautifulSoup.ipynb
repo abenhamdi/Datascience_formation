{
 "cells": [
  {
   "cell_type": "code",
   "execution_count": 1,
   "metadata": {},
   "outputs": [],
   "source": [
    "from bs4 import BeautifulSoup"
   ]
  },
  {
   "cell_type": "code",
   "execution_count": 2,
   "metadata": {},
   "outputs": [],
   "source": [
    "html='''\n",
    "<html><head><title>Formation Linkedin</title></head>\\n\",\n",
    "<body>\n",
    "<p class='title'><b>Machine learning : Création de modèles avec Python sur SQL Server</b></p>\n",
    "\n",
    "<p class='description'>De nos jours, l'explosion du volume et de la variété des données ne laisse plus planer de doute\n",
    "<br><br>,\n",
    "   :\n",
    "            <br>,\n",
    "     <ul>\",\n",
    "<li>le rôle du data scientist sera central dans les années à venir.</li>\\\n",
    "<li>Si vous êtes data scientist ou que vous souhaitez travailler avec Python, ce cours est pour vous.</li>,\n",
    "<li>Omar Souissi, professeur associé en technologie de l'information et techniques d'optimisation, vous aide à acquérir les bases indispensables pour faire de la data science avec Python.</li>\\n\",\n",
    "<li>Vous découvrirez comment utiliser deux bibliothèques indispensables, à savoir NumPy et Pandas.</li>   ,\n",
    "<li>Vous verrez également quelques études de cas qui vous permettront d'assimiler facilement les différentes notions de Python pour l'analyse de données.</li>  \\n\",\n",
    "</ul>,\n",
    "<br><br>,\n",
    "Autres formations:\",\n",
    "<br>,\n",
    "<a href='https://www.linkedin.com/learning/python-l-analyse-de-donnees/' class = 'preview' id='link 1'>Suivre formation</a>,\n",
    "<a href='https://www.linkedin.com/learning/decouvrir-l-analyse-de-donnees' class = 'preview' id='link 2'>Suivre formation</a>,\n",
    "</p>,\n",
    "    <p class='description'>...</p>\n",
    "'''"
   ]
  },
  {
   "cell_type": "code",
   "execution_count": 3,
   "metadata": {},
   "outputs": [
    {
     "name": "stdout",
     "output_type": "stream",
     "text": [
      "\n",
      "<html><head><title>Formation Linkedin</title></head>\n",
      "\",\n",
      "<body>\n",
      "<p class=\"title\"><b>Machine learning : Création de modèles avec Python sur SQL Server</b></p>\n",
      "<p class=\"description\">De nos jours, l'explosion du volume et de la variété des données ne laisse plus planer de doute\n",
      "<br/><br/>,\n",
      "   :\n",
      "            <br/>,\n",
      "     <ul>\",\n",
      "<li>le rôle du data scientist sera central dans les années à venir.</li><li>Si vous êtes data scientist ou que vous souhaitez travailler avec Python, ce cours est pour vous.</li>,\n",
      "<li>Omar Souissi, professeur associé en technologie de l'information et techniques d'optimisation, vous aide à acquérir les bases indispensables pour faire de la data science avec Python.</li>\n",
      "\",\n",
      "<li>Vous découvrirez comment utiliser deux bibliothèques indispensables, à savoir NumPy et Pandas.</li>   ,\n",
      "<li>Vous verrez également quelques études de cas qui vous permettront d'assimiler facilement les différentes notions de Python pour l'analyse de données.</li>  \n",
      "\",\n",
      "</ul>,\n",
      "<br/><br/>,\n",
      "Autres formations:\",\n",
      "<br/>,\n",
      "<a class=\"preview\" href=\"https://www.linkedin.com/learning/python-l-analyse-de-donnees/\" id=\"link 1\">Suivre formation</a>,\n",
      "<a class=\"preview\" href=\"https://www.linkedin.com/learning/decouvrir-l-analyse-de-donnees\" id=\"link 2\">Suivre formation</a>,\n",
      "</p>,\n",
      "    <p class=\"description\">...</p>\n",
      "</body></html>\n"
     ]
    }
   ],
   "source": [
    "soup = BeautifulSoup(html, 'html.parser')#appel au doc html avec l'analyseur syntaxique html.parser\n",
    "print(soup)#en passant par un arabre syntaxique"
   ]
  },
  {
   "cell_type": "code",
   "execution_count": 8,
   "metadata": {},
   "outputs": [
    {
     "name": "stdout",
     "output_type": "stream",
     "text": [
      "<html>\n",
      " <head>\n",
      "  <title>\n",
      "   Formation Linkedin\n",
      "  </title>\n",
      " </head>\n",
      " \",\n",
      " <body>\n",
      "  <p class=\"title\">\n",
      "   <b>\n",
      "    Machine learning : Création de modèles avec Python sur SQL Server\n",
      "   </b>\n",
      "  </p>\n",
      "  <p clas\n"
     ]
    }
   ],
   "source": [
    "print(soup.prettify()[0:200])#pour voir que les 200 premiers elements(+beau)"
   ]
  },
  {
   "cell_type": "code",
   "execution_count": 5,
   "metadata": {},
   "outputs": [
    {
     "data": {
      "text/plain": [
       "<head><title>Formation Linkedin</title></head>"
      ]
     },
     "execution_count": 5,
     "metadata": {},
     "output_type": "execute_result"
    }
   ],
   "source": [
    "soup.head"
   ]
  },
  {
   "cell_type": "code",
   "execution_count": 6,
   "metadata": {},
   "outputs": [
    {
     "name": "stdout",
     "output_type": "stream",
     "text": [
      "<title>Formation Linkedin</title>\n"
     ]
    }
   ],
   "source": [
    "Titre = soup.html.head.title\n",
    "print(Titre)"
   ]
  },
  {
   "cell_type": "code",
   "execution_count": 7,
   "metadata": {},
   "outputs": [
    {
     "data": {
      "text/plain": [
       "'Formation Linkedin'"
      ]
     },
     "execution_count": 7,
     "metadata": {},
     "output_type": "execute_result"
    }
   ],
   "source": [
    "soup.title.string"
   ]
  },
  {
   "cell_type": "code",
   "execution_count": 9,
   "metadata": {},
   "outputs": [
    {
     "data": {
      "text/plain": [
       "<p class=\"title\"><b>Machine learning : Création de modèles avec Python sur SQL Server</b></p>"
      ]
     },
     "execution_count": 9,
     "metadata": {},
     "output_type": "execute_result"
    }
   ],
   "source": [
    "soup.p"
   ]
  },
  {
   "cell_type": "code",
   "execution_count": 11,
   "metadata": {},
   "outputs": [
    {
     "data": {
      "text/plain": [
       "[<p class=\"title\"><b>Machine learning : Création de modèles avec Python sur SQL Server</b></p>,\n",
       " <p class=\"description\">De nos jours, l'explosion du volume et de la variété des données ne laisse plus planer de doute\n",
       " <br/><br/>,\n",
       "    :\n",
       "             <br/>,\n",
       "      <ul>\",\n",
       " <li>le rôle du data scientist sera central dans les années à venir.</li><li>Si vous êtes data scientist ou que vous souhaitez travailler avec Python, ce cours est pour vous.</li>,\n",
       " <li>Omar Souissi, professeur associé en technologie de l'information et techniques d'optimisation, vous aide à acquérir les bases indispensables pour faire de la data science avec Python.</li>\n",
       " \",\n",
       " <li>Vous découvrirez comment utiliser deux bibliothèques indispensables, à savoir NumPy et Pandas.</li>   ,\n",
       " <li>Vous verrez également quelques études de cas qui vous permettront d'assimiler facilement les différentes notions de Python pour l'analyse de données.</li>  \n",
       " \",\n",
       " </ul>,\n",
       " <br/><br/>,\n",
       " Autres formations:\",\n",
       " <br/>,\n",
       " <a class=\"preview\" href=\"https://www.linkedin.com/learning/python-l-analyse-de-donnees/\" id=\"link 1\">Suivre formation</a>,\n",
       " <a class=\"preview\" href=\"https://www.linkedin.com/learning/decouvrir-l-analyse-de-donnees\" id=\"link 2\">Suivre formation</a>,\n",
       " </p>,\n",
       " <p class=\"description\">...</p>]"
      ]
     },
     "execution_count": 11,
     "metadata": {},
     "output_type": "execute_result"
    }
   ],
   "source": [
    "soup.find_all(\"p\")"
   ]
  },
  {
   "cell_type": "code",
   "execution_count": 12,
   "metadata": {},
   "outputs": [
    {
     "data": {
      "text/plain": [
       "<b>Machine learning : Création de modèles avec Python sur SQL Server</b>"
      ]
     },
     "execution_count": 12,
     "metadata": {},
     "output_type": "execute_result"
    }
   ],
   "source": [
    "soup.body.b"
   ]
  },
  {
   "cell_type": "code",
   "execution_count": 13,
   "metadata": {},
   "outputs": [
    {
     "data": {
      "text/plain": [
       "<ul>\",\n",
       "<li>le rôle du data scientist sera central dans les années à venir.</li><li>Si vous êtes data scientist ou que vous souhaitez travailler avec Python, ce cours est pour vous.</li>,\n",
       "<li>Omar Souissi, professeur associé en technologie de l'information et techniques d'optimisation, vous aide à acquérir les bases indispensables pour faire de la data science avec Python.</li>\n",
       "\",\n",
       "<li>Vous découvrirez comment utiliser deux bibliothèques indispensables, à savoir NumPy et Pandas.</li>   ,\n",
       "<li>Vous verrez également quelques études de cas qui vous permettront d'assimiler facilement les différentes notions de Python pour l'analyse de données.</li>  \n",
       "\",\n",
       "</ul>"
      ]
     },
     "execution_count": 13,
     "metadata": {},
     "output_type": "execute_result"
    }
   ],
   "source": [
    "soup.ul"
   ]
  },
  {
   "cell_type": "code",
   "execution_count": 14,
   "metadata": {},
   "outputs": [
    {
     "data": {
      "text/plain": [
       "<li>le rôle du data scientist sera central dans les années à venir.</li>"
      ]
     },
     "execution_count": 14,
     "metadata": {},
     "output_type": "execute_result"
    }
   ],
   "source": [
    "soup.li"
   ]
  },
  {
   "cell_type": "code",
   "execution_count": 15,
   "metadata": {},
   "outputs": [
    {
     "data": {
      "text/plain": [
       "<a class=\"preview\" href=\"https://www.linkedin.com/learning/python-l-analyse-de-donnees/\" id=\"link 1\">Suivre formation</a>"
      ]
     },
     "execution_count": 15,
     "metadata": {},
     "output_type": "execute_result"
    }
   ],
   "source": [
    "soup.a"
   ]
  },
  {
   "cell_type": "code",
   "execution_count": 17,
   "metadata": {},
   "outputs": [
    {
     "data": {
      "text/plain": [
       "[<li>le rôle du data scientist sera central dans les années à venir.</li>,\n",
       " <li>Si vous êtes data scientist ou que vous souhaitez travailler avec Python, ce cours est pour vous.</li>,\n",
       " <li>Omar Souissi, professeur associé en technologie de l'information et techniques d'optimisation, vous aide à acquérir les bases indispensables pour faire de la data science avec Python.</li>,\n",
       " <li>Vous découvrirez comment utiliser deux bibliothèques indispensables, à savoir NumPy et Pandas.</li>,\n",
       " <li>Vous verrez également quelques études de cas qui vous permettront d'assimiler facilement les différentes notions de Python pour l'analyse de données.</li>]"
      ]
     },
     "execution_count": 17,
     "metadata": {},
     "output_type": "execute_result"
    }
   ],
   "source": [
    "soup.find_all(\"li\")"
   ]
  },
  {
   "cell_type": "code",
   "execution_count": 18,
   "metadata": {},
   "outputs": [
    {
     "data": {
      "text/plain": [
       "[<a class=\"preview\" href=\"https://www.linkedin.com/learning/python-l-analyse-de-donnees/\" id=\"link 1\">Suivre formation</a>,\n",
       " <a class=\"preview\" href=\"https://www.linkedin.com/learning/decouvrir-l-analyse-de-donnees\" id=\"link 2\">Suivre formation</a>]"
      ]
     },
     "execution_count": 18,
     "metadata": {},
     "output_type": "execute_result"
    }
   ],
   "source": [
    "soup.find_all(\"a\")"
   ]
  },
  {
   "cell_type": "code",
   "execution_count": null,
   "metadata": {},
   "outputs": [],
   "source": []
  }
 ],
 "metadata": {
  "kernelspec": {
   "display_name": "Python 3",
   "language": "python",
   "name": "python3"
  },
  "language_info": {
   "codemirror_mode": {
    "name": "ipython",
    "version": 3
   },
   "file_extension": ".py",
   "mimetype": "text/x-python",
   "name": "python",
   "nbconvert_exporter": "python",
   "pygments_lexer": "ipython3",
   "version": "3.8.3"
  }
 },
 "nbformat": 4,
 "nbformat_minor": 4
}
