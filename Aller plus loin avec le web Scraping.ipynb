{
 "cells": [
  {
   "cell_type": "code",
   "execution_count": 1,
   "metadata": {},
   "outputs": [],
   "source": [
    "from bs4 import BeautifulSoup\n",
    "import re #sert à definir des regels pour specifier des correpondances avec une ensmeble de chaine de cac"
   ]
  },
  {
   "cell_type": "code",
   "execution_count": 3,
   "metadata": {},
   "outputs": [],
   "source": [
    "html='''\n",
    "<html><head><title>Formation Linkedin</title></head>\\n\",\n",
    "<body>\n",
    "<p class='title'><b>Machine learning : Création de modèles avec Python sur SQL Server</b></p>\n",
    "\n",
    "<p class='description'>De nos jours, l'explosion du volume et de la variété des données ne laisse plus planer de doute\n",
    "<br><br>,\n",
    "   :\n",
    "            <br>,\n",
    "     <ul>\",\n",
    "<li>le rôle du data scientist sera central dans les années à venir.</li>\\\n",
    "<li>Si vous êtes data scientist ou que vous souhaitez travailler avec Python, ce cours est pour vous.</li>,\n",
    "<li>Omar Souissi, professeur associé en technologie de l'information et techniques d'optimisation, vous aide à acquérir les bases indispensables pour faire de la data science avec Python.</li>\\n\",\n",
    "<li>Vous découvrirez comment utiliser deux bibliothèques indispensables, à savoir NumPy et Pandas.</li>   ,\n",
    "<li>Vous verrez également quelques études de cas qui vous permettront d'assimiler facilement les différentes notions de Python pour l'analyse de données.</li>  \\n\",\n",
    "</ul>,\n",
    "<br><br>,\n",
    "Autres formations:\",\n",
    "<br>,\n",
    "<a href='https://www.linkedin.com/learning/python-l-analyse-de-donnees/' class = 'preview' id='link 1'>Suivre formation</a>,\n",
    "<a href='https://www.linkedin.com/learning/decouvrir-l-analyse-de-donnees' class = 'preview' id='link 2'>Suivre formation</a>,\n",
    "</p>,\n",
    "    <p class='description'>...</p>\n",
    "'''"
   ]
  },
  {
   "cell_type": "code",
   "execution_count": 4,
   "metadata": {},
   "outputs": [
    {
     "data": {
      "text/plain": [
       "bs4.BeautifulSoup"
      ]
     },
     "execution_count": 4,
     "metadata": {},
     "output_type": "execute_result"
    }
   ],
   "source": [
    "soup = BeautifulSoup(html,'lxml') #lxlm utiliser pour le traitement de données de xml et html en py\n",
    "type(soup)"
   ]
  },
  {
   "cell_type": "code",
   "execution_count": 5,
   "metadata": {},
   "outputs": [
    {
     "name": "stdout",
     "output_type": "stream",
     "text": [
      "<html>\n",
      " <head>\n",
      "  <title>\n",
      "   Formation Linkedin\n",
      "  </title>\n",
      " </head>\n",
      " <body>\n",
      "  <p>\n",
      "   \",\n",
      "  </p>\n",
      "  <p class=\"title\">\n",
      "   <b>\n",
      "    Machine learning : Création de modèles avec Python sur SQL Server\n",
      "   </b>\n",
      "  </p>\n",
      "  <p class=\"description\">\n",
      "   De nos jours, l'explosion du volume et de la variété des données ne laisse plus planer de doute\n",
      "   <br/>\n",
      "   <br/>\n",
      "   ,\n",
      "   :\n",
      "   <br/>\n",
      "   ,\n",
      "  </p>\n",
      "  <ul>\n",
      "   \",\n",
      "   <li>\n",
      "    le rôle du data scientist sera central dans les années à venir.\n",
      "   </li>\n",
      "   <li>\n",
      "    Si vous êtes data scientist ou que vous souhaitez travailler avec Python, ce cours est pour vous.\n",
      "   </li>\n",
      "   ,\n",
      "   <li>\n",
      "    Omar Souissi, professeur associé en technologie de l'information et techniques d'optimisation, vous aide à acquérir les bases indispensables pour faire de la data science avec Python.\n",
      "   </li>\n",
      "   \",\n",
      "   <li>\n",
      "    Vous découvrirez comment utiliser deux bibliothèques indispensables, à savoir NumPy et Pandas.\n",
      "   </li>\n",
      "   ,\n",
      "   <li>\n",
      "    Vous verrez également quelques études de cas qui vous permettront d'assimiler facilement les différentes notions de Python pour l'analyse de données.\n",
      "   </li>\n",
      "   \",\n",
      "  </ul>\n",
      "  ,\n",
      "  <br/>\n",
      "  <br/>\n",
      "  ,\n",
      "Autres formations:\",\n",
      "  <br/>\n",
      "  ,\n",
      "  <a class=\"preview\" href=\"https://www.linkedin.com/learning/python-l-analyse-de-donnees/\" id=\"link 1\">\n",
      "   Suivre formation\n",
      "  </a>\n",
      "  ,\n",
      "  <a class=\"preview\" href=\"https://www.linkedin.com/learning/decouvrir-l-analyse-de-donnees\" id=\"link 2\">\n",
      "   Suivre formation\n",
      "  </a>\n",
      "  ,\n",
      ",\n",
      "  <p class=\"description\">\n",
      "   ...\n",
      "  </p>\n",
      " </body>\n",
      "</html>\n"
     ]
    }
   ],
   "source": [
    "print(soup.prettify())"
   ]
  },
  {
   "cell_type": "code",
   "execution_count": 6,
   "metadata": {},
   "outputs": [
    {
     "name": "stdout",
     "output_type": "stream",
     "text": [
      "Formation Linkedin\n",
      "\",\n",
      "\n",
      "Machine learning : Création de modèles avec Python sur SQL Server\n",
      "De nos jours, l'explosion du volume et de la variété des données ne laisse plus planer de doute\n",
      ",\n",
      "   :\n",
      "            ,\n",
      "     \",\n",
      "le rôle du data scientist sera central dans les années à venir.Si vous êtes data scientist ou que vous souhaitez travailler avec Python, ce cours est pour vous.,\n",
      "Omar Souissi, professeur associé en technologie de l'information et techniques d'optimisation, vous aide à acquérir les bases indispensables pour faire de la data science avec Python.\n",
      "\",\n",
      "Vous découvrirez comment utiliser deux bibliothèques indispensables, à savoir NumPy et Pandas.   ,\n",
      "Vous verrez également quelques études de cas qui vous permettront d'assimiler facilement les différentes notions de Python pour l'analyse de données.  \n",
      "\",\n",
      ",\n",
      ",\n",
      "Autres formations:\",\n",
      ",\n",
      "Suivre formation,\n",
      "Suivre formation,\n",
      ",\n",
      "    ...\n",
      "\n"
     ]
    }
   ],
   "source": [
    "texte_seul = soup.get_text()\n",
    "print(texte_seul)#sans les balises"
   ]
  },
  {
   "cell_type": "code",
   "execution_count": 7,
   "metadata": {},
   "outputs": [
    {
     "data": {
      "text/plain": [
       "[<li>le rôle du data scientist sera central dans les années à venir.</li>,\n",
       " <li>Si vous êtes data scientist ou que vous souhaitez travailler avec Python, ce cours est pour vous.</li>,\n",
       " <li>Omar Souissi, professeur associé en technologie de l'information et techniques d'optimisation, vous aide à acquérir les bases indispensables pour faire de la data science avec Python.</li>,\n",
       " <li>Vous découvrirez comment utiliser deux bibliothèques indispensables, à savoir NumPy et Pandas.</li>,\n",
       " <li>Vous verrez également quelques études de cas qui vous permettront d'assimiler facilement les différentes notions de Python pour l'analyse de données.</li>]"
      ]
     },
     "execution_count": 7,
     "metadata": {},
     "output_type": "execute_result"
    }
   ],
   "source": [
    "soup.find_all(\"li\")"
   ]
  },
  {
   "cell_type": "code",
   "execution_count": 9,
   "metadata": {},
   "outputs": [
    {
     "data": {
      "text/plain": [
       "[<a class=\"preview\" href=\"https://www.linkedin.com/learning/decouvrir-l-analyse-de-donnees\" id=\"link 2\">Suivre formation</a>]"
      ]
     },
     "execution_count": 9,
     "metadata": {},
     "output_type": "execute_result"
    }
   ],
   "source": [
    "soup.find_all(id=\"link 2\")"
   ]
  },
  {
   "cell_type": "code",
   "execution_count": 11,
   "metadata": {},
   "outputs": [
    {
     "name": "stdout",
     "output_type": "stream",
     "text": [
      "html\n",
      "title\n",
      "ul\n",
      "li\n",
      "li\n",
      "li\n",
      "li\n",
      "li\n"
     ]
    }
   ],
   "source": [
    "l = re.compile('l')\n",
    "for tag in soup.find_all(l): print(tag.name)#pour chaque objet de la balise soup on souhaite retourner afficher le nom de chaque balise contenat l"
   ]
  },
  {
   "cell_type": "code",
   "execution_count": 12,
   "metadata": {},
   "outputs": [
    {
     "name": "stdout",
     "output_type": "stream",
     "text": [
      "html\n",
      "head\n",
      "title\n",
      "body\n",
      "p\n",
      "p\n",
      "b\n",
      "p\n",
      "br\n",
      "br\n",
      "br\n",
      "ul\n",
      "li\n",
      "li\n",
      "li\n",
      "li\n",
      "li\n",
      "br\n",
      "br\n",
      "br\n",
      "a\n",
      "a\n",
      "p\n"
     ]
    }
   ],
   "source": [
    "for tag in soup.find_all(True): print(tag.name)#la meme chose avec une valeur boolénne TRUE/FALSE"
   ]
  },
  {
   "cell_type": "code",
   "execution_count": 13,
   "metadata": {},
   "outputs": [
    {
     "name": "stdout",
     "output_type": "stream",
     "text": [
      "https://www.linkedin.com/learning/python-l-analyse-de-donnees/\n",
      "https://www.linkedin.com/learning/decouvrir-l-analyse-de-donnees\n"
     ]
    }
   ],
   "source": [
    "for link in soup.find_all('a'): print(link.get('href'))"
   ]
  },
  {
   "cell_type": "code",
   "execution_count": 14,
   "metadata": {},
   "outputs": [
    {
     "data": {
      "text/plain": [
       "['le rôle du data scientist sera central dans les années à venir.',\n",
       " 'Si vous êtes data scientist ou que vous souhaitez travailler avec Python, ce cours est pour vous.',\n",
       " \"Omar Souissi, professeur associé en technologie de l'information et techniques d'optimisation, vous aide à acquérir les bases indispensables pour faire de la data science avec Python.\"]"
      ]
     },
     "execution_count": 14,
     "metadata": {},
     "output_type": "execute_result"
    }
   ],
   "source": [
    "soup.find_all(string=re.compile(\"data\"))"
   ]
  },
  {
   "cell_type": "code",
   "execution_count": 15,
   "metadata": {},
   "outputs": [
    {
     "data": {
      "text/plain": [
       "[\"Omar Souissi, professeur associé en technologie de l'information et techniques d'optimisation, vous aide à acquérir les bases indispensables pour faire de la data science avec Python.\"]"
      ]
     },
     "execution_count": 15,
     "metadata": {},
     "output_type": "execute_result"
    }
   ],
   "source": [
    "soup.find_all(string=re.compile(\"Omar Souissi\"))"
   ]
  },
  {
   "cell_type": "code",
   "execution_count": null,
   "metadata": {},
   "outputs": [],
   "source": []
  }
 ],
 "metadata": {
  "kernelspec": {
   "display_name": "Python 3",
   "language": "python",
   "name": "python3"
  },
  "language_info": {
   "codemirror_mode": {
    "name": "ipython",
    "version": 3
   },
   "file_extension": ".py",
   "mimetype": "text/x-python",
   "name": "python",
   "nbconvert_exporter": "python",
   "pygments_lexer": "ipython3",
   "version": "3.8.3"
  }
 },
 "nbformat": 4,
 "nbformat_minor": 4
}
