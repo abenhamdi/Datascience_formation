{
 "cells": [
  {
   "cell_type": "code",
   "execution_count": 1,
   "metadata": {},
   "outputs": [],
   "source": [
    "from bs4 import BeautifulSoup"
   ]
  },
  {
   "cell_type": "code",
   "execution_count": 2,
   "metadata": {},
   "outputs": [],
   "source": [
    "html='''\n",
    "<html><head><title>Formation Linkedin</title></head>\\n\",\n",
    "<body>\n",
    "<p class='title'><b>Machine learning : Création de modèles avec Python sur SQL Server</b></p>\n",
    "\n",
    "<p class='description'>De nos jours, l'explosion du volume et de la variété des données ne laisse plus planer de doute\n",
    "<br><br>,\n",
    "   :\n",
    "            <br>,\n",
    "     <ul>\",\n",
    "<li>le rôle du data scientist sera central dans les années à venir.</li>\\\n",
    "<li>Si vous êtes data scientist ou que vous souhaitez travailler avec Python, ce cours est pour vous.</li>,\n",
    "<li>Omar Souissi, professeur associé en technologie de l'information et techniques d'optimisation, vous aide à acquérir les bases indispensables pour faire de la data science avec Python.</li>\\n\",\n",
    "<li>Vous découvrirez comment utiliser deux bibliothèques indispensables, à savoir NumPy et Pandas.</li>   ,\n",
    "<li>Vous verrez également quelques études de cas qui vous permettront d'assimiler facilement les différentes notions de Python pour l'analyse de données.</li>  \\n\",\n",
    "</ul>,\n",
    "<br><br>,\n",
    "Autres formations:\",\n",
    "<br>,\n",
    "<a href='https://www.linkedin.com/learning/python-l-analyse-de-donnees/' class = 'preview' id='link 1'>Suivre formation</a>,\n",
    "<a href='https://www.linkedin.com/learning/decouvrir-l-analyse-de-donnees' class = 'preview' id='link 2'>Suivre formation</a>,\n",
    "</p>,\n",
    "    <p class='description'>...</p>\n",
    "'''"
   ]
  },
  {
   "cell_type": "code",
   "execution_count": 4,
   "metadata": {},
   "outputs": [
    {
     "data": {
      "text/plain": [
       "bs4.element.Tag"
      ]
     },
     "execution_count": 4,
     "metadata": {},
     "output_type": "execute_result"
    }
   ],
   "source": [
    "soup = BeautifulSoup(html, 'html.parser')\n",
    "tag = soup.b\n",
    "type(tag)"
   ]
  },
  {
   "cell_type": "code",
   "execution_count": 6,
   "metadata": {},
   "outputs": [
    {
     "data": {
      "text/plain": [
       "'b'"
      ]
     },
     "execution_count": 6,
     "metadata": {},
     "output_type": "execute_result"
    }
   ],
   "source": [
    "tag.name"
   ]
  },
  {
   "cell_type": "code",
   "execution_count": 7,
   "metadata": {},
   "outputs": [
    {
     "data": {
      "text/plain": [
       "'Machine learning : Création de modèles avec Python sur SQL Server'"
      ]
     },
     "execution_count": 7,
     "metadata": {},
     "output_type": "execute_result"
    }
   ],
   "source": [
    "tag.string"
   ]
  },
  {
   "cell_type": "code",
   "execution_count": 8,
   "metadata": {},
   "outputs": [
    {
     "data": {
      "text/plain": [
       "bs4.element.NavigableString"
      ]
     },
     "execution_count": 8,
     "metadata": {},
     "output_type": "execute_result"
    }
   ],
   "source": [
    "type(tag.string)"
   ]
  },
  {
   "cell_type": "code",
   "execution_count": 9,
   "metadata": {},
   "outputs": [
    {
     "data": {
      "text/plain": [
       "'Machine learning : Création de modèles avec Python sur SQL Server'"
      ]
     },
     "execution_count": 9,
     "metadata": {},
     "output_type": "execute_result"
    }
   ],
   "source": [
    "nav_string = tag.string #interieur de la balise b\n",
    "nav_string"
   ]
  },
  {
   "cell_type": "code",
   "execution_count": 11,
   "metadata": {},
   "outputs": [
    {
     "ename": "ValueError",
     "evalue": "Cannot replace one element with another when the element to be replaced is not part of a tree.",
     "output_type": "error",
     "traceback": [
      "\u001b[1;31m---------------------------------------------------------------------------\u001b[0m",
      "\u001b[1;31mValueError\u001b[0m                                Traceback (most recent call last)",
      "\u001b[1;32m<ipython-input-11-244d5d6e061c>\u001b[0m in \u001b[0;36m<module>\u001b[1;34m\u001b[0m\n\u001b[1;32m----> 1\u001b[1;33m \u001b[0mnav_string\u001b[0m\u001b[1;33m.\u001b[0m\u001b[0mreplace_with\u001b[0m\u001b[1;33m(\u001b[0m\u001b[1;34m'Machine learning pour la création de modèles avec Python sur SQL server'\u001b[0m\u001b[1;33m)\u001b[0m\u001b[1;33m\u001b[0m\u001b[1;33m\u001b[0m\u001b[0m\n\u001b[0m",
      "\u001b[1;32m~\\anaconda3\\lib\\site-packages\\bs4\\element.py\u001b[0m in \u001b[0;36mreplace_with\u001b[1;34m(self, replace_with)\u001b[0m\n\u001b[0;32m    264\u001b[0m         \"\"\"\n\u001b[0;32m    265\u001b[0m         \u001b[1;32mif\u001b[0m \u001b[0mself\u001b[0m\u001b[1;33m.\u001b[0m\u001b[0mparent\u001b[0m \u001b[1;32mis\u001b[0m \u001b[1;32mNone\u001b[0m\u001b[1;33m:\u001b[0m\u001b[1;33m\u001b[0m\u001b[1;33m\u001b[0m\u001b[0m\n\u001b[1;32m--> 266\u001b[1;33m             raise ValueError(\n\u001b[0m\u001b[0;32m    267\u001b[0m                 \u001b[1;34m\"Cannot replace one element with another when the \"\u001b[0m\u001b[1;33m\u001b[0m\u001b[1;33m\u001b[0m\u001b[0m\n\u001b[0;32m    268\u001b[0m                 \"element to be replaced is not part of a tree.\")\n",
      "\u001b[1;31mValueError\u001b[0m: Cannot replace one element with another when the element to be replaced is not part of a tree."
     ]
    }
   ],
   "source": [
    "nav_string.replace_with('Machine learning pour la création de modèles avec Python sur SQL server')"
   ]
  },
  {
   "cell_type": "code",
   "execution_count": 12,
   "metadata": {},
   "outputs": [
    {
     "data": {
      "text/plain": [
       "\n",
       "<html><head><title>Formation Linkedin</title></head>\n",
       "\",\n",
       "<body>\n",
       "<p class=\"title\"><b>Machine learning pour la création de modèles avec Python sur SQL server</b></p>\n",
       "<p class=\"description\">De nos jours, l'explosion du volume et de la variété des données ne laisse plus planer de doute\n",
       "<br/><br/>,\n",
       "   :\n",
       "            <br/>,\n",
       "     <ul>\",\n",
       "<li>le rôle du data scientist sera central dans les années à venir.</li><li>Si vous êtes data scientist ou que vous souhaitez travailler avec Python, ce cours est pour vous.</li>,\n",
       "<li>Omar Souissi, professeur associé en technologie de l'information et techniques d'optimisation, vous aide à acquérir les bases indispensables pour faire de la data science avec Python.</li>\n",
       "\",\n",
       "<li>Vous découvrirez comment utiliser deux bibliothèques indispensables, à savoir NumPy et Pandas.</li>   ,\n",
       "<li>Vous verrez également quelques études de cas qui vous permettront d'assimiler facilement les différentes notions de Python pour l'analyse de données.</li>  \n",
       "\",\n",
       "</ul>,\n",
       "<br/><br/>,\n",
       "Autres formations:\",\n",
       "<br/>,\n",
       "<a class=\"preview\" href=\"https://www.linkedin.com/learning/python-l-analyse-de-donnees/\" id=\"link 1\">Suivre formation</a>,\n",
       "<a class=\"preview\" href=\"https://www.linkedin.com/learning/decouvrir-l-analyse-de-donnees\" id=\"link 2\">Suivre formation</a>,\n",
       "</p>,\n",
       "    <p class=\"description\">...</p>\n",
       "</body></html>"
      ]
     },
     "execution_count": 12,
     "metadata": {},
     "output_type": "execute_result"
    }
   ],
   "source": [
    "soup"
   ]
  },
  {
   "cell_type": "code",
   "execution_count": 13,
   "metadata": {},
   "outputs": [
    {
     "name": "stdout",
     "output_type": "stream",
     "text": [
      "'Formation Linkedin'\n",
      "'\",'\n",
      "'Machine learning pour la création de modèles avec Python sur SQL server'\n",
      "\"De nos jours, l'explosion du volume et de la variété des données ne laisse plus planer de doute\"\n",
      "',\\n   :'\n",
      "','\n",
      "'\",'\n",
      "'le rôle du data scientist sera central dans les années à venir.'\n",
      "'Si vous êtes data scientist ou que vous souhaitez travailler avec Python, ce cours est pour vous.'\n",
      "','\n",
      "\"Omar Souissi, professeur associé en technologie de l'information et techniques d'optimisation, vous aide à acquérir les bases indispensables pour faire de la data science avec Python.\"\n",
      "'\",'\n",
      "'Vous découvrirez comment utiliser deux bibliothèques indispensables, à savoir NumPy et Pandas.'\n",
      "','\n",
      "\"Vous verrez également quelques études de cas qui vous permettront d'assimiler facilement les différentes notions de Python pour l'analyse de données.\"\n",
      "'\",'\n",
      "','\n",
      "',\\nAutres formations:\",'\n",
      "','\n",
      "'Suivre formation'\n",
      "','\n",
      "'Suivre formation'\n",
      "','\n",
      "','\n",
      "'...'\n"
     ]
    }
   ],
   "source": [
    "for string in soup.stripped_strings: print(repr(string))#affiche toutes les chaines de caracteres"
   ]
  },
  {
   "cell_type": "code",
   "execution_count": 14,
   "metadata": {},
   "outputs": [
    {
     "data": {
      "text/plain": [
       "<title>Formation Linkedin</title>"
      ]
     },
     "execution_count": 14,
     "metadata": {},
     "output_type": "execute_result"
    }
   ],
   "source": [
    "titre_tag= soup.title\n",
    "titre_tag"
   ]
  },
  {
   "cell_type": "code",
   "execution_count": 15,
   "metadata": {},
   "outputs": [
    {
     "data": {
      "text/plain": [
       "<head><title>Formation Linkedin</title></head>"
      ]
     },
     "execution_count": 15,
     "metadata": {},
     "output_type": "execute_result"
    }
   ],
   "source": [
    "titre_tag.parent"
   ]
  },
  {
   "cell_type": "code",
   "execution_count": 16,
   "metadata": {},
   "outputs": [
    {
     "data": {
      "text/plain": [
       "'Formation Linkedin'"
      ]
     },
     "execution_count": 16,
     "metadata": {},
     "output_type": "execute_result"
    }
   ],
   "source": [
    "titre_tag.string"
   ]
  },
  {
   "cell_type": "code",
   "execution_count": null,
   "metadata": {},
   "outputs": [],
   "source": []
  }
 ],
 "metadata": {
  "kernelspec": {
   "display_name": "Python 3",
   "language": "python",
   "name": "python3"
  },
  "language_info": {
   "codemirror_mode": {
    "name": "ipython",
    "version": 3
   },
   "file_extension": ".py",
   "mimetype": "text/x-python",
   "name": "python",
   "nbconvert_exporter": "python",
   "pygments_lexer": "ipython3",
   "version": "3.8.3"
  }
 },
 "nbformat": 4,
 "nbformat_minor": 4
}
